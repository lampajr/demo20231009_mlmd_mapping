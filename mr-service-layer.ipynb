{
 "cells": [
  {
   "cell_type": "markdown",
   "id": "06952e52-017f-44c9-a94d-4cabdd771c95",
   "metadata": {},
   "source": [
    "## Setup"
   ]
  },
  {
   "cell_type": "code",
   "execution_count": 1,
   "id": "cb35e367-bfea-4365-9306-0c20c1058dea",
   "metadata": {},
   "outputs": [],
   "source": [
    "from pprint import pprint\n",
    "\n",
    "import ml_metadata as mlmd\n",
    "from ml_metadata.metadata_store import metadata_store\n",
    "from ml_metadata.proto import metadata_store_pb2"
   ]
  },
  {
   "cell_type": "code",
   "execution_count": 2,
   "id": "d8b14807-1979-4314-887d-0c0bef2728e0",
   "metadata": {},
   "outputs": [],
   "source": [
    "# Create the Store using local SQLite database\n",
    "connection_config = metadata_store_pb2.ConnectionConfig()\n",
    "connection_config.sqlite.filename_uri = 'metadata.sqlite.db'\n",
    "connection_config.sqlite.connection_mode = 3 # READWRITE_OPENCREATE\n",
    "store = metadata_store.MetadataStore(connection_config)"
   ]
  },
  {
   "cell_type": "markdown",
   "id": "75bc53b6-171f-4bcf-a933-1acd20909abe",
   "metadata": {},
   "source": [
    "## Create Custom Types"
   ]
  },
  {
   "cell_type": "code",
   "execution_count": 3,
   "id": "6dcb94ef-0cbf-469c-9bad-2c76dc216ee8",
   "metadata": {},
   "outputs": [
    {
     "data": {
      "text/plain": [
       "10"
      ]
     },
     "execution_count": 3,
     "metadata": {},
     "output_type": "execute_result"
    }
   ],
   "source": [
    "# Registered Model\n",
    "reg_model_type = metadata_store_pb2.ContextType()\n",
    "reg_model_type.name = \"odh.RegisteredModel\"\n",
    "reg_model_type_id = store.put_context_type(reg_model_type)\n",
    "reg_model_type_id"
   ]
  },
  {
   "cell_type": "code",
   "execution_count": 4,
   "id": "5bfd278a-b77a-4fd4-a5e9-4a08122c97b2",
   "metadata": {},
   "outputs": [
    {
     "data": {
      "text/plain": [
       "11"
      ]
     },
     "execution_count": 4,
     "metadata": {},
     "output_type": "execute_result"
    }
   ],
   "source": [
    "# ModelVersion\n",
    "model_version_type = metadata_store_pb2.ContextType()\n",
    "model_version_type.name = \"odh.ModelVersion\"\n",
    "model_version_type.properties[\"model_name\"] = metadata_store_pb2.STRING\n",
    "model_version_type.properties[\"version\"] = metadata_store_pb2.STRING\n",
    "model_version_type_id = store.put_context_type(model_version_type)\n",
    "model_version_type_id"
   ]
  },
  {
   "cell_type": "code",
   "execution_count": 5,
   "id": "cede0b3d-51cb-403e-80c2-7255aa21d03a",
   "metadata": {},
   "outputs": [
    {
     "data": {
      "text/plain": [
       "12"
      ]
     },
     "execution_count": 5,
     "metadata": {},
     "output_type": "execute_result"
    }
   ],
   "source": [
    "# ModelArtifact\n",
    "model_artifact_type = metadata_store_pb2.ArtifactType()\n",
    "model_artifact_type.name = \"odh.ModelArtifact\"\n",
    "model_artifact_type_id = store.put_artifact_type(model_artifact_type)\n",
    "model_artifact_type_id"
   ]
  },
  {
   "cell_type": "code",
   "execution_count": 6,
   "id": "b63e888b-8e7c-448c-9eb1-032385b94d77",
   "metadata": {},
   "outputs": [],
   "source": [
    "# Ensure types have been created\n",
    "assert store.get_context_type(type_name=\"odh.RegisteredModel\").id == reg_model_type_id\n",
    "assert store.get_context_type(type_name=\"odh.ModelVersion\").id == model_version_type_id\n",
    "assert store.get_artifact_type(type_name=\"odh.ModelArtifact\").id == model_artifact_type_id"
   ]
  },
  {
   "cell_type": "markdown",
   "id": "40cadb17-4c41-4695-928b-6bc70b024fab",
   "metadata": {},
   "source": [
    "## Limitations"
   ]
  },
  {
   "cell_type": "code",
   "execution_count": 7,
   "id": "79094630-1bfc-4793-99c2-7105f0fb7c36",
   "metadata": {},
   "outputs": [],
   "source": [
    "# Empty contexts set\n",
    "assert len(store.get_contexts()) == 0"
   ]
  },
  {
   "cell_type": "code",
   "execution_count": 8,
   "id": "ed642c62-9799-4cfb-9e3d-5be37e266738",
   "metadata": {},
   "outputs": [],
   "source": [
    "# Context are uniquely identified by <type, name> therefore we cannot have multiple ModelVersion with same name\n",
    "# version_1 = metadata_store_pb2.Context()\n",
    "# version_1.type_id = model_version_type_id\n",
    "# version_1.name = \"MyModel\"\n",
    "# version_1.properties[\"version\"].string_value = \"v1\"\n",
    "# store.put_contexts([version_1])\n",
    "\n",
    "# version_2 = metadata_store_pb2.Context()\n",
    "# version_2.type_id = model_version_type_id\n",
    "# version_2.name = \"MyModel\"\n",
    "# version_2.properties[\"version\"].string_value = \"v2\"\n",
    "# store.put_contexts([version_2])"
   ]
  },
  {
   "cell_type": "markdown",
   "id": "ad809525-054a-48fa-aa74-6b50688f166b",
   "metadata": {},
   "source": [
    "## Model Registry Mapping"
   ]
  },
  {
   "cell_type": "markdown",
   "id": "fea94528-47b8-40aa-a700-5c9b8fa3d062",
   "metadata": {},
   "source": [
    "### Service Layer"
   ]
  },
  {
   "cell_type": "code",
   "execution_count": 9,
   "id": "28d0f6da-7218-4f99-9538-ad02c20e9209",
   "metadata": {},
   "outputs": [],
   "source": [
    "# Create Utilities\n",
    "\n",
    "\n",
    "def create_registered_model(name):\n",
    "    \"\"\"Create a new registered model\"\"\"\n",
    "\n",
    "    reg_model = metadata_store_pb2.Context()\n",
    "    reg_model.type_id = reg_model_type_id\n",
    "    reg_model.name = name\n",
    "\n",
    "    store.put_contexts([reg_model])\n",
    "\n",
    "\n",
    "def create_model_version(name, version, uri):\n",
    "    \"\"\"Create a new model version\n",
    "    A registered model must exist.\"\"\"\n",
    "\n",
    "    assert store.get_context_by_type_and_name(type_name=\"odh.RegisteredModel\", context_name=name) != None\n",
    "\n",
    "    full_name = f\"{name}:{version}\"\n",
    "    \n",
    "    # create the context\n",
    "    model_v = metadata_store_pb2.Context()\n",
    "    model_v.type_id = model_version_type_id\n",
    "    model_v.name = full_name\n",
    "    model_v.properties[\"model_name\"].string_value = name\n",
    "    model_v.properties[\"version\"].string_value = version\n",
    "    \n",
    "    [model_v_id] = store.put_contexts([model_v])\n",
    "\n",
    "    # create the artifact\n",
    "    model_artifact = metadata_store_pb2.Artifact()\n",
    "    model_artifact.type_id = model_artifact_type_id\n",
    "    model_artifact.uri = uri\n",
    "    model_artifact.name = f\"{full_name}:model\"\n",
    "\n",
    "    [art_id] = store.put_artifacts([model_artifact])\n",
    "\n",
    "    # create the attribution (context-artifact association)\n",
    "\n",
    "    attribution = metadata_store_pb2.Attribution()\n",
    "    attribution.artifact_id = art_id\n",
    "    attribution.context_id = model_v_id\n",
    "\n",
    "    store.put_attributions_and_associations([attribution], [])\n",
    "    \n"
   ]
  },
  {
   "cell_type": "code",
   "execution_count": 10,
   "id": "06fc19b9-b7f0-400b-a53a-6df9866b0d14",
   "metadata": {},
   "outputs": [],
   "source": [
    "# Get Utilities\n",
    "\n",
    "\n",
    "def map_artifact(artifact):\n",
    "    return {\n",
    "        \"name\": artifact.name,\n",
    "        \"uri\": artifact.uri\n",
    "    }\n",
    "\n",
    "\n",
    "def map_model_version(model_version):\n",
    "    artifacts = store.get_artifacts_by_context(context_id=model_version.id)\n",
    "    return {\n",
    "        \"model_name\": model_version.properties[\"model_name\"].string_value,\n",
    "        \"version\": model_version.properties[\"version\"].string_value,\n",
    "        \"create_time_since_epoch\": model_version.create_time_since_epoch,\n",
    "        \"last_update_time_since_epoch\": model_version.last_update_time_since_epoch,\n",
    "        \"artifacts\": list(map(map_artifact, artifacts))\n",
    "    }\n",
    "    \n",
    "\n",
    "def get_registered_model(name):\n",
    "    \"\"\"Retrieve a single registered model, together with all its versions\"\"\"\n",
    "\n",
    "    reg_model = store.get_context_by_type_and_name(type_name=\"odh.RegisteredModel\", context_name=name)\n",
    "    query = 'type = \"odh.ModelVersion\" and properties.model_name.string_value = \"{}\"'.format(name)\n",
    "    versions = store.get_contexts(list_options=mlmd.ListOptions(filter_query=query))\n",
    "\n",
    "    return {\n",
    "        \"name\": reg_model.name,\n",
    "        \"versions\": list(map(map_model_version, versions))\n",
    "    }\n",
    "\n",
    "\n",
    "def get_model_version(name, version):\n",
    "    \"\"\"Retrieve a single registered model version\"\"\"\n",
    "\n",
    "    reg_model = store.get_context_by_type_and_name(type_name=\"odh.RegisteredModel\", context_name=name)\n",
    "    query = 'type = \"odh.ModelVersion\" and properties.model_name.string_value = \"{}\" and properties.version.string_value = \"{}\"'.format(name, version)\n",
    "    versions = store.get_contexts(list_options=mlmd.ListOptions(filter_query=query))\n",
    "    assert len(versions) == 1\n",
    "    \n",
    "    return {\n",
    "        \"name\": reg_model.name,\n",
    "        \"version\": map_model_version(versions[0])\n",
    "    }"
   ]
  },
  {
   "cell_type": "markdown",
   "id": "2f6d120c-a583-4eab-81c1-4206731a3db2",
   "metadata": {},
   "source": [
    "### Example"
   ]
  },
  {
   "cell_type": "code",
   "execution_count": 11,
   "id": "ee048148-ae82-4f3e-9626-4af80973c5ba",
   "metadata": {},
   "outputs": [],
   "source": [
    "create_registered_model(name=\"PricingModel\")"
   ]
  },
  {
   "cell_type": "code",
   "execution_count": 12,
   "id": "a4c6380c-a209-4fc0-9389-261ec4bbc962",
   "metadata": {},
   "outputs": [],
   "source": [
    "create_model_version(name=\"PricingModel\", version=\"v1\", uri=\"/path/to/model/v1\")\n",
    "create_model_version(name=\"PricingModel\", version=\"v2\", uri=\"/path/to/model/v2\")\n",
    "create_model_version(name=\"PricingModel\", version=\"v3\", uri=\"/path/to/model/v3\")"
   ]
  },
  {
   "cell_type": "code",
   "execution_count": 13,
   "id": "9f4e52bd-2fe7-400e-9302-4bcd78b9b071",
   "metadata": {},
   "outputs": [
    {
     "name": "stdout",
     "output_type": "stream",
     "text": [
      "{'name': 'PricingModel',\n",
      " 'versions': [{'artifacts': [{'name': 'PricingModel:v1:model',\n",
      "                              'uri': '/path/to/model/v1'}],\n",
      "               'create_time_since_epoch': 1696845946045,\n",
      "               'last_update_time_since_epoch': 1696845946045,\n",
      "               'model_name': 'PricingModel',\n",
      "               'version': 'v1'},\n",
      "              {'artifacts': [{'name': 'PricingModel:v2:model',\n",
      "                              'uri': '/path/to/model/v2'}],\n",
      "               'create_time_since_epoch': 1696845946072,\n",
      "               'last_update_time_since_epoch': 1696845946072,\n",
      "               'model_name': 'PricingModel',\n",
      "               'version': 'v2'},\n",
      "              {'artifacts': [{'name': 'PricingModel:v3:model',\n",
      "                              'uri': '/path/to/model/v3'}],\n",
      "               'create_time_since_epoch': 1696845946106,\n",
      "               'last_update_time_since_epoch': 1696845946106,\n",
      "               'model_name': 'PricingModel',\n",
      "               'version': 'v3'}]}\n"
     ]
    }
   ],
   "source": [
    "model = get_registered_model(name=\"PricingModel\")\n",
    "pprint(model)"
   ]
  },
  {
   "cell_type": "code",
   "execution_count": 14,
   "id": "e208c95c-e3f2-4669-80b1-513807a1c998",
   "metadata": {},
   "outputs": [
    {
     "name": "stdout",
     "output_type": "stream",
     "text": [
      "{'name': 'PricingModel',\n",
      " 'version': {'artifacts': [{'name': 'PricingModel:v1:model',\n",
      "                            'uri': '/path/to/model/v1'}],\n",
      "             'create_time_since_epoch': 1696845946045,\n",
      "             'last_update_time_since_epoch': 1696845946045,\n",
      "             'model_name': 'PricingModel',\n",
      "             'version': 'v1'}}\n"
     ]
    }
   ],
   "source": [
    "model_v1 = get_model_version(name=\"PricingModel\", version=\"v1\")\n",
    "pprint(model_v1)"
   ]
  },
  {
   "cell_type": "code",
   "execution_count": 15,
   "id": "4f635422-7416-40dc-9640-930b271f7475",
   "metadata": {},
   "outputs": [
    {
     "name": "stdout",
     "output_type": "stream",
     "text": [
      "{'name': 'PricingModel',\n",
      " 'version': {'artifacts': [{'name': 'PricingModel:v2:model',\n",
      "                            'uri': '/path/to/model/v2'}],\n",
      "             'create_time_since_epoch': 1696845946072,\n",
      "             'last_update_time_since_epoch': 1696845946072,\n",
      "             'model_name': 'PricingModel',\n",
      "             'version': 'v2'}}\n"
     ]
    }
   ],
   "source": [
    "model_v2 = get_model_version(name=\"PricingModel\", version=\"v2\")\n",
    "pprint(model_v2)"
   ]
  },
  {
   "cell_type": "code",
   "execution_count": 16,
   "id": "068fc492-19bd-4d32-a0fc-0f6d98c6cb5c",
   "metadata": {},
   "outputs": [],
   "source": [
    "create_registered_model(name=\"Forecasting\")"
   ]
  },
  {
   "cell_type": "code",
   "execution_count": 17,
   "id": "fc7026df-1e32-49a2-8d81-fe02b23dba58",
   "metadata": {},
   "outputs": [],
   "source": [
    "create_model_version(name=\"Forecasting\", version=\"1.0\", uri=\"/path/to/forecasting/v1.0\")\n",
    "create_model_version(name=\"Forecasting\", version=\"1.1\", uri=\"/path/to/forecasting/v1.1\")"
   ]
  },
  {
   "cell_type": "code",
   "execution_count": 18,
   "id": "de0c0dce-1d88-4a77-ab26-1619305d462b",
   "metadata": {},
   "outputs": [
    {
     "name": "stdout",
     "output_type": "stream",
     "text": [
      "{'name': 'Forecasting',\n",
      " 'version': {'artifacts': [{'name': 'Forecasting:1.0:model',\n",
      "                            'uri': '/path/to/forecasting/v1.0'}],\n",
      "             'create_time_since_epoch': 1696845946199,\n",
      "             'last_update_time_since_epoch': 1696845946199,\n",
      "             'model_name': 'Forecasting',\n",
      "             'version': '1.0'}}\n"
     ]
    }
   ],
   "source": [
    "forecasting_v1 = get_model_version(name=\"Forecasting\", version=\"1.0\")\n",
    "pprint(forecasting_v1)"
   ]
  },
  {
   "cell_type": "code",
   "execution_count": null,
   "id": "ed282030-14a6-4ea0-b6ee-8f98081fe56f",
   "metadata": {},
   "outputs": [],
   "source": []
  }
 ],
 "metadata": {
  "kernelspec": {
   "display_name": "Python 3 (ipykernel)",
   "language": "python",
   "name": "python3"
  },
  "language_info": {
   "codemirror_mode": {
    "name": "ipython",
    "version": 3
   },
   "file_extension": ".py",
   "mimetype": "text/x-python",
   "name": "python",
   "nbconvert_exporter": "python",
   "pygments_lexer": "ipython3",
   "version": "3.9.18"
  }
 },
 "nbformat": 4,
 "nbformat_minor": 5
}
